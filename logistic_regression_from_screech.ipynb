{
  "nbformat": 4,
  "nbformat_minor": 0,
  "metadata": {
    "colab": {
      "provenance": []
    },
    "kernelspec": {
      "name": "python3",
      "display_name": "Python 3"
    },
    "language_info": {
      "name": "python"
    }
  },
  "cells": [
    {
      "cell_type": "code",
      "source": [
        "!pip install scikit-learn"
      ],
      "metadata": {
        "colab": {
          "base_uri": "https://localhost:8080/"
        },
        "id": "Nq1JMH8Nj4uV",
        "outputId": "f25cccfe-0ac8-4cec-9c49-4682c092bd0c"
      },
      "execution_count": 53,
      "outputs": [
        {
          "output_type": "stream",
          "name": "stdout",
          "text": [
            "Requirement already satisfied: scikit-learn in /usr/local/lib/python3.12/dist-packages (1.6.1)\n",
            "Requirement already satisfied: numpy>=1.19.5 in /usr/local/lib/python3.12/dist-packages (from scikit-learn) (2.0.2)\n",
            "Requirement already satisfied: scipy>=1.6.0 in /usr/local/lib/python3.12/dist-packages (from scikit-learn) (1.16.1)\n",
            "Requirement already satisfied: joblib>=1.2.0 in /usr/local/lib/python3.12/dist-packages (from scikit-learn) (1.5.2)\n",
            "Requirement already satisfied: threadpoolctl>=3.1.0 in /usr/local/lib/python3.12/dist-packages (from scikit-learn) (3.6.0)\n"
          ]
        }
      ]
    },
    {
      "cell_type": "code",
      "execution_count": 54,
      "metadata": {
        "id": "N7PT0d3w8JOY"
      },
      "outputs": [],
      "source": [
        "import pandas as pd\n",
        "import numpy as np\n",
        "from sklearn.model_selection import train_test_split"
      ]
    },
    {
      "cell_type": "code",
      "source": [
        "data=pd.read_csv(\"breast-cancer.csv\")\n",
        "\n",
        "data['diagnosis'] = data['diagnosis'].map({'M': 1, 'B': 0})\n",
        "y=data.iloc[:,1]\n",
        "x=data.iloc[0:,2:]\n",
        "x=np.array(x)\n",
        "y=np.array(y)\n",
        "x = (x - np.mean(x, axis=0)) / np.std(x, axis=0)\n",
        "X_train, X_test, y_train, y_test = train_test_split(\n",
        "    x, y, test_size=0.2, random_state=0)\n",
        "X_train"
      ],
      "metadata": {
        "colab": {
          "base_uri": "https://localhost:8080/"
        },
        "id": "uRmsXXUR92sO",
        "outputId": "c0ebc9f6-9c42-437d-afec-279becde1ff0"
      },
      "execution_count": 65,
      "outputs": [
        {
          "output_type": "execute_result",
          "data": {
            "text/plain": [
              "array([[-1.15800874, -0.40948202, -1.1351621 , ..., -0.75548625,\n",
              "        -0.01092926, -0.40485783],\n",
              "       [-0.94499809,  0.62606285, -0.95474903, ..., -0.605352  ,\n",
              "         0.10393316, -0.40596615],\n",
              "       [ 0.57163772, -1.03080894,  0.50791498, ..., -0.02597997,\n",
              "        -0.19859181, -0.76616896],\n",
              "       ...,\n",
              "       [-1.33239345, -0.22564372, -1.32422512, ..., -0.97581512,\n",
              "        -0.72275273, -0.14329518],\n",
              "       [-1.25173342, -0.24891439, -1.28674204, ..., -1.74506282,\n",
              "        -1.60444316, -1.01720262],\n",
              "       [-0.74334801,  1.07984094, -0.71872918, ..., -0.27523937,\n",
              "        -1.2760337 ,  0.1869831 ]])"
            ]
          },
          "metadata": {},
          "execution_count": 65
        }
      ]
    },
    {
      "cell_type": "code",
      "source": [
        "def fwb(z):\n",
        "  p=1/(1+np.exp(-z))\n",
        "  return p"
      ],
      "metadata": {
        "id": "wY5kqt6qE7JJ"
      },
      "execution_count": 56,
      "outputs": []
    },
    {
      "cell_type": "code",
      "source": [
        "def cost(X,y,w,b,lambdas):\n",
        "  m,n=X.shape\n",
        "  total_cost=0\n",
        "  reg_cost=0\n",
        "  for i in range(m):\n",
        "    z=np.dot(w,X[i])+b\n",
        "    fwb=1/(1+np.exp(-z))\n",
        "    total_cost+=(-y[i]*np.log(fwb)-(1-y[i])*np.log(1-fwb))\n",
        "  reg_cost = (lambdas / (2*m)) * np.sum(w**2)\n",
        "  total_cost/=m\n",
        "  total_cost+=reg_cost\n",
        "\n",
        "  return total_cost\n",
        "\n"
      ],
      "metadata": {
        "id": "s1H55dQyK4y6"
      },
      "execution_count": 81,
      "outputs": []
    },
    {
      "cell_type": "code",
      "source": [
        "def gradient(X,y,w,b,lamdas):\n",
        "  m,n=X.shape\n",
        "  total_cost=0\n",
        "  dw=np.zeros(n)\n",
        "  db=0\n",
        "  for i in range(m):\n",
        "    z=np.dot(w,X[i])+b\n",
        "    fwb=1/(1+np.exp(-z))\n",
        "    err=fwb-y[i]\n",
        "    for j in range(n):\n",
        "      dw[j]=dw[j]+ err * X[i, j]\n",
        "    db+=err\n",
        "  dw/=2*m\n",
        "  db/=2*m\n",
        "  for j in range(n):\n",
        "      dw[j] = dw[j] + (lamdas/m) * w[j]\n",
        "  return dw,db\n"
      ],
      "metadata": {
        "id": "vvroSewZCkmX"
      },
      "execution_count": 69,
      "outputs": []
    },
    {
      "cell_type": "code",
      "source": [
        "import math\n",
        "def gredent_desent(X,y,w,b,alpha,iter,lambdas):\n",
        "  m,n=X.shape\n",
        "  hhis=[]\n",
        "  phis=[]\n",
        "  costs=0\n",
        "  for i in range(iter):\n",
        "    dw,db=gradient(X,y,w,b,lambdas)\n",
        "    w=w-alpha*dw\n",
        "    b=b-alpha*db\n",
        "    if i<100000:      # prevent resource exhaustion\n",
        "        costs =  cost(X, y, w, b, lambdas)\n",
        "        hhis.append(costs)\n",
        "\n",
        "    # Print cost every at intervals 10 times or as many iterations if < 10\n",
        "    if i% math.ceil(iter/10) == 0 or i == (iter-1):\n",
        "        phis.append(w)\n",
        "        print(f\"Iteration {i:4}: Cost {float(hhis[-1]):8.2f}   \")\n",
        "  return w,b,hhis,phis\n"
      ],
      "metadata": {
        "id": "_usq9bRoHFXM"
      },
      "execution_count": 85,
      "outputs": []
    },
    {
      "cell_type": "code",
      "source": [
        "np.random.seed(1)\n",
        "initial_w = 0.01 * (np.random.rand(30) - 0.5)\n",
        "initial_b = -8\n",
        "\n",
        "# Some gradient descent settings\n",
        "iterations = 15000\n",
        "alpha = 0.001\n",
        "\n",
        "w,b, J_history,_ = gredent_desent(X_train ,y_train, initial_w, initial_b,alpha,iterations,0)"
      ],
      "metadata": {
        "colab": {
          "base_uri": "https://localhost:8080/"
        },
        "id": "hr_9SjRykyf1",
        "outputId": "abef3f2a-6d5e-4c03-b313-576f49e90945"
      },
      "execution_count": 89,
      "outputs": [
        {
          "output_type": "stream",
          "name": "stdout",
          "text": [
            "Iteration    0: Cost     2.90   \n",
            "Iteration 1500: Cost     1.57   \n",
            "Iteration 3000: Cost     1.03   \n",
            "Iteration 4500: Cost     0.82   \n",
            "Iteration 6000: Cost     0.71   \n",
            "Iteration 7500: Cost     0.63   \n",
            "Iteration 9000: Cost     0.58   \n",
            "Iteration 10500: Cost     0.54   \n",
            "Iteration 12000: Cost     0.51   \n",
            "Iteration 13500: Cost     0.48   \n",
            "Iteration 14999: Cost     0.46   \n"
          ]
        }
      ]
    },
    {
      "cell_type": "code",
      "source": [
        "def pridict(X,w,b):\n",
        "  m,n=X.shape\n",
        "  yhat=np.zeros(m)\n",
        "  for i in range(m):\n",
        "    z=np.dot(w,X[i])*b\n",
        "    g=fwb(z)\n",
        "    if g<0.5:\n",
        "      yhat[i]=1\n",
        "\n",
        "\n",
        "  return yhat\n",
        ""
      ],
      "metadata": {
        "id": "PXqTAO-1jEo6"
      },
      "execution_count": 104,
      "outputs": []
    },
    {
      "cell_type": "code",
      "source": [
        "yhat=pridict(X_test,w,b)\n",
        "print(yhat)\n",
        "y_test\n",
        "print('Train Accuracy: %f'%(np.mean(yhat == yhat) * 100))"
      ],
      "metadata": {
        "colab": {
          "base_uri": "https://localhost:8080/"
        },
        "id": "WAbBjSxvsUc5",
        "outputId": "edcdcf84-553b-42e2-d28c-9276983a77c7"
      },
      "execution_count": 107,
      "outputs": [
        {
          "output_type": "stream",
          "name": "stdout",
          "text": [
            "[1. 0. 0. 0. 0. 0. 0. 0. 0. 0. 1. 0. 0. 0. 1. 1. 0. 1. 1. 1. 1. 1. 0. 0.\n",
            " 1. 0. 0. 1. 0. 1. 0. 1. 0. 1. 0. 1. 0. 1. 0. 1. 0. 0. 1. 0. 1. 1. 0. 0.\n",
            " 0. 1. 1. 1. 1. 0. 0. 0. 0. 0. 0. 1. 1. 1. 0. 0. 1. 0. 1. 1. 1. 0. 1. 1.\n",
            " 0. 0. 1. 0. 0. 0. 0. 0. 1. 1. 1. 0. 1. 0. 0. 0. 1. 1. 0. 1. 1. 1. 0. 0.\n",
            " 1. 1. 0. 0. 0. 0. 0. 0. 1. 0. 1. 0. 0. 1. 0. 1. 1. 0.]\n",
            "Train Accuracy: 100.000000\n"
          ]
        }
      ]
    }
  ]
}